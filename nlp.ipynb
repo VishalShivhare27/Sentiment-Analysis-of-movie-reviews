{
 "cells": [
  {
   "cell_type": "code",
   "execution_count": 4,
   "metadata": {},
   "outputs": [],
   "source": [
    "\n",
    "    from nltk.tokenize import RegexpTokenizer\n",
    "    from nltk.stem.porter import PorterStemmer\n",
    "    from nltk.corpus import stopwords\n",
    "\n",
    "\n",
    "\n",
    "\n",
    "\n",
    "# Init Objects\n",
    "    tokenizer = RegexpTokenizer(r'\\w+')\n",
    "    en_stopwords = set(stopwords.words('english'))\n",
    "    ps = PorterStemmer()\n",
    "\n",
    "\n",
    "\n",
    "    #function to clean the text\n",
    "\n",
    "    def getCleanReview(review):\n",
    "    \n",
    "        review = review.lower()\n",
    "        review = review.replace(\"<br /><br />\",\" \")\n",
    "    \n",
    "    #Tokenize\n",
    "        tokens = tokenizer.tokenize(review)\n",
    "        new_tokens = [token for token in tokens if token not in en_stopwords]\n",
    "        stemmed_tokens = [ps.stem(token) for token in new_tokens]\n",
    "    \n",
    "        cleaned_review = ' '.join(stemmed_tokens)\n",
    "    \n",
    "        return cleaned_review\n",
    "    \n",
    "       \n",
    "   \n",
    "   \n",
    "    #importing the libraries\n",
    "    import numpy as np\n",
    "    import matplotlib.pyplot as plt\n",
    "    import pandas as pd\n",
    "    \n",
    "    dataset = pd.read_csv('training data excel sheet's location')\n",
    "    dataset.head()\n",
    "    x = dataset.iloc[:,:-1].values\n",
    "    x=x.flatten()\n",
    "    \n",
    "    x_clean = [getCleanReview(i) for i in x]\n",
    "    y = dataset.iloc[:,1].values\n",
    "    \n",
    "    dataset1 = pd.read_csv('testing data excel sheet's location')\n",
    "    z = dataset1.iloc[:,:].values\n",
    "    z= z.flatten()   \n",
    "    z_clean = [getCleanReview(i) for i in z]\n",
    "    \n",
    "    \n",
    "\n",
    "\n",
    "\n",
    "\n"
   ]
  },
  {
   "cell_type": "code",
   "execution_count": 21,
   "metadata": {},
   "outputs": [],
   "source": [
    "#creating the bag of words model\n",
    "from sklearn.feature_extraction.text import CountVectorizer\n",
    "cv = CountVectorizer(ngram_range=(1,2),max_features=900)\n",
    "\n",
    "x_vec = cv.fit_transform(x_clean).toarray()\n",
    "\n"
   ]
  },
  {
   "cell_type": "code",
   "execution_count": 22,
   "metadata": {},
   "outputs": [],
   "source": [
    "z_vec = cv.transform(z_clean).toarray()\n",
    "#print(xt_vec)\n",
    "#cv.get_feature_names()\n",
    "#print(xt_vec.shape)"
   ]
  },
  {
   "cell_type": "code",
   "execution_count": 23,
   "metadata": {},
   "outputs": [],
   "source": [
    "#Classifying using naive bayes classifier \n",
    "from sklearn.naive_bayes import MultinomialNB,BernoulliNB, GaussianNB"
   ]
  },
  {
   "cell_type": "code",
   "execution_count": 24,
   "metadata": {},
   "outputs": [
    {
     "name": "stdout",
     "output_type": "stream",
     "text": [
      "MultinomialNB(alpha=1.0, class_prior=None, fit_prior=True)\n"
     ]
    }
   ],
   "source": [
    "mnb = MultinomialNB()\n",
    "print(mnb)"
   ]
  },
  {
   "cell_type": "code",
   "execution_count": 25,
   "metadata": {},
   "outputs": [
    {
     "data": {
      "text/plain": [
       "MultinomialNB(alpha=1.0, class_prior=None, fit_prior=True)"
      ]
     },
     "execution_count": 25,
     "metadata": {},
     "output_type": "execute_result"
    }
   ],
   "source": [
    "\n",
    "# Training \n",
    "mnb.fit(x_vec,y)"
   ]
  },
  {
   "cell_type": "code",
   "execution_count": 27,
   "metadata": {},
   "outputs": [],
   "source": [
    "mnb.predict(z_vec)\n",
    "a= mnb.predict(z_vec)\n",
    "a = pd.DataFrame(a)\n",
    "a.to_csv('file name to save the predictions')\n",
    "\n"
   ]
  },
  {
   "cell_type": "code",
   "execution_count": null,
   "metadata": {},
   "outputs": [],
   "source": []
  },
  {
   "cell_type": "code",
   "execution_count": null,
   "metadata": {},
   "outputs": [],
   "source": []
  },
  {
   "cell_type": "code",
   "execution_count": null,
   "metadata": {},
   "outputs": [],
   "source": []
  },
  {
   "cell_type": "code",
   "execution_count": null,
   "metadata": {},
   "outputs": [],
   "source": []
  },
  {
   "cell_type": "code",
   "execution_count": null,
   "metadata": {},
   "outputs": [],
   "source": []
  },
  {
   "cell_type": "code",
   "execution_count": null,
   "metadata": {},
   "outputs": [],
   "source": []
  },
  {
   "cell_type": "code",
   "execution_count": null,
   "metadata": {},
   "outputs": [],
   "source": []
  },
  {
   "cell_type": "code",
   "execution_count": null,
   "metadata": {},
   "outputs": [],
   "source": []
  },
  {
   "cell_type": "code",
   "execution_count": null,
   "metadata": {},
   "outputs": [],
   "source": []
  },
  {
   "cell_type": "code",
   "execution_count": null,
   "metadata": {},
   "outputs": [],
   "source": []
  }
 ],
 "metadata": {
  "kernelspec": {
   "display_name": "Python 3",
   "language": "python",
   "name": "python3"
  },
  "language_info": {
   "codemirror_mode": {
    "name": "ipython",
    "version": 3
   },
   "file_extension": ".py",
   "mimetype": "text/x-python",
   "name": "python",
   "nbconvert_exporter": "python",
   "pygments_lexer": "ipython3",
   "version": "3.7.4"
  }
 },
 "nbformat": 4,
 "nbformat_minor": 2
}
